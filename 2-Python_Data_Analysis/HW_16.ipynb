{
 "cells": [
  {
   "cell_type": "markdown",
   "id": "df671e76",
   "metadata": {},
   "source": [
    "# ДЗ: Алгоритмы и структуры данных"
   ]
  },
  {
   "cell_type": "code",
   "execution_count": 1,
   "id": "d8fd2f58",
   "metadata": {},
   "outputs": [],
   "source": [
    "import random"
   ]
  },
  {
   "cell_type": "markdown",
   "id": "621ac52c",
   "metadata": {},
   "source": [
    "Реализуйте бинарный поиск."
   ]
  },
  {
   "cell_type": "code",
   "execution_count": 2,
   "id": "de7de523",
   "metadata": {},
   "outputs": [],
   "source": [
    "def bin_search(array, value):\n",
    "    \"\"\"Бинарный поиск.\"\"\"\n",
    "    left = 0\n",
    "    right = len(array) - 1\n",
    "    pos = len(array) // 2\n",
    "    while (array[pos] != value) and (left <= right):\n",
    "        if (value > array[pos]):\n",
    "            left = pos + 1\n",
    "        else:\n",
    "            right = pos - 1\n",
    "        pos = (left + right) // 2\n",
    "    return -1 if left > right else pos"
   ]
  },
  {
   "cell_type": "code",
   "execution_count": 3,
   "id": "b959c667",
   "metadata": {},
   "outputs": [],
   "source": [
    "size = 10**3\n",
    "array = [random.randint(-size, size) for i in range(size)]\n",
    "# print(array)"
   ]
  },
  {
   "cell_type": "code",
   "execution_count": 4,
   "id": "74fb5146",
   "metadata": {},
   "outputs": [
    {
     "name": "stdout",
     "output_type": "stream",
     "text": [
      "674 = array[-1]\n"
     ]
    }
   ],
   "source": [
    "value = random.choice(array)\n",
    "index = bin_search(array, value)\n",
    "print(f\"{value} = array[{index}]\")"
   ]
  },
  {
   "cell_type": "markdown",
   "id": "b57296ac",
   "metadata": {},
   "source": [
    "Реализуйте несколько алгоритмов сортировки и сравните их время работы на одних и тех же входных данных."
   ]
  },
  {
   "cell_type": "code",
   "execution_count": 5,
   "id": "ef2290fd",
   "metadata": {},
   "outputs": [],
   "source": [
    "def bubble_sort(a, desc=True):\n",
    "    \"\"\"Сортировка методом пузырька.\"\"\"\n",
    "    lt = lambda a, b: a < b\n",
    "    gt = lambda a, b: a > b\n",
    "    cmp = lt if desc else gt\n",
    "    N = len(a)\n",
    "    for j in range(1, N):\n",
    "        flag = False  # был ли хотя бы один обмен значениями\n",
    "        for i in range(N - j):\n",
    "            if cmp(a[i], a[i+1]):\n",
    "                a[i], a[i+1] = a[i+1], a[i]\n",
    "                flag = True\n",
    "        if not flag:\n",
    "            break  # обменов не было -> массив уже отсортирован\n",
    "        # print(a)\n",
    "    return a\n",
    "\n",
    "\n",
    "def merge_sort(a, desc=False):\n",
    "    \"\"\"Сортировка методом слияния.\"\"\"\n",
    "    lt = lambda a, b: a < b\n",
    "    gt = lambda a, b: a > b\n",
    "    cmp = gt if desc else lt\n",
    "    if len(a) < 2:\n",
    "        return a\n",
    "    a_L = merge_sort(a[:len(a) // 2], desc)  # отсортированна левая половина\n",
    "    i_L = 0\n",
    "    a_R = merge_sort(a[len(a) // 2:], desc)  # отсортированна правая половина\n",
    "    i_R = 0\n",
    "    a_C = [0] * (len(a_L) + len(a_R))  # результат слияния отсортированных половин\n",
    "    i_C = 0\n",
    "    while (i_L < len(a_L)) and (i_R < len(a_R)):\n",
    "        if cmp(a_L[i_L], a_R[i_R]):\n",
    "            a_C[i_C] = a_L[i_L]\n",
    "            i_L += 1\n",
    "        else:\n",
    "            a_C[i_C] = a_R[i_R]\n",
    "            i_R += 1\n",
    "        i_C += 1\n",
    "    while (i_L < len(a_L)):\n",
    "        a_C[i_C] = a_L[i_L]\n",
    "        i_L += 1\n",
    "        i_C += 1\n",
    "    while (i_R < len(a_R)):\n",
    "        a_C[i_C] = a_R[i_R]\n",
    "        i_R += 1\n",
    "        i_C += 1\n",
    "    for i in range(len(a)):\n",
    "        a[i] = a_C[i]  # заменить исходный массив на отсортированный\n",
    "    return a\n",
    "\n",
    "\n",
    "def quick_sort(a):\n",
    "    \"\"\"Быстрая сортировка Хоара.\"\"\"\n",
    "    if len(a) <= 1:\n",
    "        return a\n",
    "    pivot = random.choice(a)\n",
    "    s_ar = []\n",
    "    m_ar = []\n",
    "    l_ar = []\n",
    "    for item in a:\n",
    "        if item < pivot:\n",
    "            s_ar.append(item)\n",
    "        elif item > pivot:\n",
    "            l_ar.append(item)\n",
    "        elif item == pivot:\n",
    "            m_ar.append(item)\n",
    "        else:\n",
    "            raise Exception(\"Случилось непредвиденное\")\n",
    "    # print(s_ar, m_ar, l_ar)\n",
    "    return quick_sort(s_ar) + m_ar + quick_sort(l_ar)"
   ]
  },
  {
   "cell_type": "code",
   "execution_count": 6,
   "id": "c3d005e8",
   "metadata": {},
   "outputs": [
    {
     "name": "stdout",
     "output_type": "stream",
     "text": [
      "112 ms ± 3.16 ms per loop (mean ± std. dev. of 7 runs, 10 loops each)\n"
     ]
    }
   ],
   "source": [
    "%%timeit\n",
    "random.shuffle(array)\n",
    "bubble_sort(array, desc=False)"
   ]
  },
  {
   "cell_type": "code",
   "execution_count": 7,
   "id": "4e45e68d",
   "metadata": {},
   "outputs": [
    {
     "name": "stdout",
     "output_type": "stream",
     "text": [
      "5.36 ms ± 366 µs per loop (mean ± std. dev. of 7 runs, 100 loops each)\n"
     ]
    }
   ],
   "source": [
    "%%timeit\n",
    "random.shuffle(array)\n",
    "merge_sort(array)"
   ]
  },
  {
   "cell_type": "code",
   "execution_count": 8,
   "id": "a3e85a10",
   "metadata": {},
   "outputs": [
    {
     "name": "stdout",
     "output_type": "stream",
     "text": [
      "1.8 ms ± 55.7 µs per loop (mean ± std. dev. of 7 runs, 1000 loops each)\n"
     ]
    }
   ],
   "source": [
    "%%timeit\n",
    "random.shuffle(array)\n",
    "quick_sort(array)"
   ]
  },
  {
   "cell_type": "code",
   "execution_count": null,
   "id": "545f9074",
   "metadata": {},
   "outputs": [],
   "source": []
  }
 ],
 "metadata": {
  "kernelspec": {
   "display_name": "Python 3 (ipykernel)",
   "language": "python",
   "name": "python3"
  },
  "language_info": {
   "codemirror_mode": {
    "name": "ipython",
    "version": 3
   },
   "file_extension": ".py",
   "mimetype": "text/x-python",
   "name": "python",
   "nbconvert_exporter": "python",
   "pygments_lexer": "ipython3",
   "version": "3.10.4"
  }
 },
 "nbformat": 4,
 "nbformat_minor": 5
}

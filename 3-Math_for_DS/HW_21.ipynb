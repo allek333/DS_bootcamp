{
 "cells": [
  {
   "cell_type": "markdown",
   "id": "eceab07e",
   "metadata": {},
   "source": [
    "# ДЗ: Математический анализ"
   ]
  },
  {
   "cell_type": "code",
   "execution_count": 1,
   "id": "1709d0b6",
   "metadata": {},
   "outputs": [],
   "source": [
    "import sympy\n",
    "x = sympy.symbols('x')\n",
    "sympy.init_printing(use_unicode=True)"
   ]
  },
  {
   "cell_type": "markdown",
   "id": "243eb629",
   "metadata": {},
   "source": [
    "__1.__ Вынесите пределы:  \n",
    "$\\lim_{x \\to \\infty}\\frac{3+x+x^2}{2x+4x^2}$  \n",
    "$\\lim_{x \\to 0}\\frac{3x-6}{x^2+4}$"
   ]
  },
  {
   "cell_type": "code",
   "execution_count": 2,
   "id": "8553da36",
   "metadata": {},
   "outputs": [
    {
     "data": {
      "image/png": "[encoded data removed]",
      "text/latex": [
       "$\\displaystyle \\frac{1}{4}$"
      ],
      "text/plain": [
       "1/4"
      ]
     },
     "execution_count": 2,
     "metadata": {},
     "output_type": "execute_result"
    }
   ],
   "source": [
    "sympy.limit((3+x+x**2)/(2*x+4*(x**2)), x, sympy.oo)"
   ]
  },
  {
   "cell_type": "code",
   "execution_count": 3,
   "id": "66e012a7",
   "metadata": {},
   "outputs": [
    {
     "data": {
      "image/png": "[encoded data removed]",
      "text/latex": [
       "$\\displaystyle - \\frac{3}{2}$"
      ],
      "text/plain": [
       "-3/2"
      ]
     },
     "execution_count": 3,
     "metadata": {},
     "output_type": "execute_result"
    }
   ],
   "source": [
    "sympy.limit((3*x-6)/((x**2)+4), x, 0)"
   ]
  },
  {
   "cell_type": "markdown",
   "id": "4106ab5a",
   "metadata": {},
   "source": [
    "__2.__ Вычислите производные:  \n",
    "$y=sin(x)$  \n",
    "$10x+3x^2$"
   ]
  },
  {
   "cell_type": "code",
   "execution_count": 4,
   "id": "d49efdc5",
   "metadata": {},
   "outputs": [
    {
     "data": {
      "image/png": "[encoded data removed]",
      "text/latex": [
       "$\\displaystyle \\cos{\\left(x \\right)}$"
      ],
      "text/plain": [
       "cos(x)"
      ]
     },
     "execution_count": 4,
     "metadata": {},
     "output_type": "execute_result"
    }
   ],
   "source": [
    "sympy.diff(sympy.sin(x), x)"
   ]
  },
  {
   "cell_type": "code",
   "execution_count": 5,
   "id": "6876dd5c",
   "metadata": {},
   "outputs": [
    {
     "data": {
      "image/png": "[encoded data removed]",
      "text/latex": [
       "$\\displaystyle 6 x + 10$"
      ],
      "text/plain": [
       "6⋅x + 10"
      ]
     },
     "execution_count": 5,
     "metadata": {},
     "output_type": "execute_result"
    }
   ],
   "source": [
    "sympy.diff(10*x+3*(x**2), x)"
   ]
  },
  {
   "cell_type": "markdown",
   "id": "b269be2d",
   "metadata": {},
   "source": [
    "__3.__ Найдите интеграл:  \n",
    "$y=cos(x)$  \n",
    "$y=10^x$"
   ]
  },
  {
   "cell_type": "code",
   "execution_count": 6,
   "id": "0e446542",
   "metadata": {},
   "outputs": [
    {
     "data": {
      "image/png": "[encoded data removed]",
      "text/latex": [
       "$\\displaystyle \\sin{\\left(x \\right)}$"
      ],
      "text/plain": [
       "sin(x)"
      ]
     },
     "execution_count": 6,
     "metadata": {},
     "output_type": "execute_result"
    }
   ],
   "source": [
    "sympy.integrate(sympy.cos(x), x)"
   ]
  },
  {
   "cell_type": "code",
   "execution_count": 7,
   "id": "38c485aa",
   "metadata": {},
   "outputs": [
    {
     "data": {
      "image/png": "[encoded data removed]",
      "text/latex": [
       "$\\displaystyle \\frac{10^{x}}{\\log{\\left(10 \\right)}}$"
      ],
      "text/plain": [
       "    x  \n",
       "  10   \n",
       "───────\n",
       "log(10)"
      ]
     },
     "execution_count": 7,
     "metadata": {},
     "output_type": "execute_result"
    }
   ],
   "source": [
    "sympy.integrate(10**x, x)"
   ]
  },
  {
   "cell_type": "code",
   "execution_count": null,
   "id": "d0548cfd",
   "metadata": {},
   "outputs": [],
   "source": []
  }
 ],
 "metadata": {
  "kernelspec": {
   "display_name": "Python 3 (ipykernel)",
   "language": "python",
   "name": "python3"
  },
  "language_info": {
   "codemirror_mode": {
    "name": "ipython",
    "version": 3
   },
   "file_extension": ".py",
   "mimetype": "text/x-python",
   "name": "python",
   "nbconvert_exporter": "python",
   "pygments_lexer": "ipython3",
   "version": "3.8.13"
  }
 },
 "nbformat": 4,
 "nbformat_minor": 5
}

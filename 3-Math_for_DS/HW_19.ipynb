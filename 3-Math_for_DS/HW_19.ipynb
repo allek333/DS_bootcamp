{
 "cells": [
  {
   "cell_type": "code",
   "execution_count": 1,
   "id": "143a0ac2",
   "metadata": {},
   "outputs": [],
   "source": [
    "import sympy\n",
    "sympy.init_printing(use_unicode=True)"
   ]
  },
  {
   "cell_type": "markdown",
   "id": "ef770e79",
   "metadata": {},
   "source": [
    "1. Выделите полный квадрат:\n",
    "* $x^2+4x+6$\n",
    "* $x^2+9$"
   ]
  },
  {
   "cell_type": "code",
   "execution_count": 2,
   "id": "f0d77d95",
   "metadata": {},
   "outputs": [],
   "source": [
    "x = sympy.symbols('x')"
   ]
  },
  {
   "cell_type": "code",
   "execution_count": 3,
   "id": "90478083",
   "metadata": {},
   "outputs": [],
   "source": [
    "def full_square(expr):\n",
    "    \"\"\"выделить полный квадрат\"\"\"\n",
    "    B = expr.coeff(x, 1) / (2*expr.coeff(x, 2))\n",
    "    fs = sympy.Eq(sympy.factor(x**2 + 2*x*B + B**2), B**2 - expr.coeff(x,0))\n",
    "    return fs"
   ]
  },
  {
   "cell_type": "code",
   "execution_count": 4,
   "id": "ea5636a8",
   "metadata": {},
   "outputs": [
    {
     "data": {
      "image/png": "[encoded data removed]",
      "text/latex": [
       "$\\displaystyle x^{2} + 4 x + 6$"
      ],
      "text/plain": [
       " 2          \n",
       "x  + 4⋅x + 6"
      ]
     },
     "execution_count": 4,
     "metadata": {},
     "output_type": "execute_result"
    }
   ],
   "source": [
    "expr1 = x**2+4*x+6\n",
    "expr1"
   ]
  },
  {
   "cell_type": "code",
   "execution_count": 5,
   "id": "718407d8",
   "metadata": {},
   "outputs": [
    {
     "data": {
      "image/png": "[encoded data removed]",
      "text/latex": [
       "$\\displaystyle \\left(x + 2\\right)^{2} = -2$"
      ],
      "text/plain": [
       "       2     \n",
       "(x + 2)  = -2"
      ]
     },
     "execution_count": 5,
     "metadata": {},
     "output_type": "execute_result"
    }
   ],
   "source": [
    "fs1 = full_square(expr1)\n",
    "fs1"
   ]
  },
  {
   "cell_type": "code",
   "execution_count": 6,
   "id": "13db3a7d",
   "metadata": {},
   "outputs": [
    {
     "data": {
      "image/png": "[encoded data removed]",
      "text/latex": [
       "$\\displaystyle \\left\\{-2 - \\sqrt{2} i, -2 + \\sqrt{2} i\\right\\}$"
      ],
      "text/plain": [
       "{-2 - √2⋅ⅈ, -2 + √2⋅ⅈ}"
      ]
     },
     "execution_count": 6,
     "metadata": {},
     "output_type": "execute_result"
    }
   ],
   "source": [
    "sympy.solveset(fs1)"
   ]
  },
  {
   "cell_type": "code",
   "execution_count": 7,
   "id": "b34fbdce",
   "metadata": {},
   "outputs": [
    {
     "data": {
      "image/png": "[encoded data removed]",
      "text/latex": [
       "$\\displaystyle x^{2} + 9$"
      ],
      "text/plain": [
       " 2    \n",
       "x  + 9"
      ]
     },
     "execution_count": 7,
     "metadata": {},
     "output_type": "execute_result"
    }
   ],
   "source": [
    "expr2 = x**2+9\n",
    "expr2"
   ]
  },
  {
   "cell_type": "code",
   "execution_count": 8,
   "id": "f76b4047",
   "metadata": {},
   "outputs": [
    {
     "data": {
      "image/png": "[encoded data removed]",
      "text/latex": [
       "$\\displaystyle x^{2} = -9$"
      ],
      "text/plain": [
       " 2     \n",
       "x  = -9"
      ]
     },
     "execution_count": 8,
     "metadata": {},
     "output_type": "execute_result"
    }
   ],
   "source": [
    "fs2 = full_square(expr2)\n",
    "fs2"
   ]
  },
  {
   "cell_type": "code",
   "execution_count": 9,
   "id": "8d29f760",
   "metadata": {},
   "outputs": [
    {
     "data": {
      "image/png": "[encoded data removed]",
      "text/latex": [
       "$\\displaystyle \\left\\{- 3 i, 3 i\\right\\}$"
      ],
      "text/plain": [
       "{-3⋅ⅈ, 3⋅ⅈ}"
      ]
     },
     "execution_count": 9,
     "metadata": {},
     "output_type": "execute_result"
    }
   ],
   "source": [
    "sympy.solveset(fs2)"
   ]
  },
  {
   "cell_type": "markdown",
   "id": "207eb63e",
   "metadata": {},
   "source": [
    "2. Упростите выражение, используя логарифмирование:\n",
    "$y = x^{sin(x)}, x>0$"
   ]
  },
  {
   "cell_type": "code",
   "execution_count": 10,
   "id": "6bd1421d",
   "metadata": {},
   "outputs": [
    {
     "data": {
      "image/png": "[encoded data removed]",
      "text/latex": [
       "$\\displaystyle y = x^{\\sin{\\left(x \\right)}}$"
      ],
      "text/plain": [
       "     sin(x)\n",
       "y = x      "
      ]
     },
     "execution_count": 10,
     "metadata": {},
     "output_type": "execute_result"
    }
   ],
   "source": [
    "x = sympy.symbols('x', positive=True)\n",
    "y = sympy.symbols('y')\n",
    "expr = sympy.Eq(y, x**sympy.sin(x))\n",
    "expr"
   ]
  },
  {
   "cell_type": "code",
   "execution_count": 11,
   "id": "e01da14f",
   "metadata": {},
   "outputs": [
    {
     "data": {
      "image/png": "[encoded data removed]",
      "text/latex": [
       "$\\displaystyle \\log{\\left(y \\right)} = \\log{\\left(x \\right)} \\sin{\\left(x \\right)}$"
      ],
      "text/plain": [
       "log(y) = log(x)⋅sin(x)"
      ]
     },
     "execution_count": 11,
     "metadata": {},
     "output_type": "execute_result"
    }
   ],
   "source": [
    "log_expr = sympy.Eq(sympy.log(expr.lhs), sympy.expand_log(sympy.log(expr.rhs)))\n",
    "log_expr"
   ]
  },
  {
   "cell_type": "markdown",
   "id": "15982f37",
   "metadata": {},
   "source": [
    "3. Определите вид функции (чётная/нечётная/общего вида):\n",
    "* $y=3x+x^3$\n",
    "* $y=4^{x}+4^{-x}$\n",
    "* $y=(x-1)^3$"
   ]
  },
  {
   "cell_type": "code",
   "execution_count": 12,
   "id": "135af18e",
   "metadata": {},
   "outputs": [],
   "source": [
    "x = sympy.symbols('x')"
   ]
  },
  {
   "cell_type": "code",
   "execution_count": 13,
   "id": "a1c58e0e",
   "metadata": {},
   "outputs": [],
   "source": [
    "def func_type(func):\n",
    "    \"\"\"определить вид функции\"\"\"\n",
    "    func_mod = func.subs(x, -x)\n",
    "    # sympy.pprint(func_mod)\n",
    "    if func == func_mod:\n",
    "        return \"чётная функция\"\n",
    "    elif -func == func_mod:\n",
    "        return \"нечётная функция\"\n",
    "    else:\n",
    "        return \"функция общего вида\""
   ]
  },
  {
   "cell_type": "code",
   "execution_count": 14,
   "id": "1244b7d8",
   "metadata": {},
   "outputs": [
    {
     "name": "stdout",
     "output_type": "stream",
     "text": [
      " 3      \n",
      "x  + 3⋅x\n"
     ]
    },
    {
     "data": {
      "text/plain": [
       "'нечётная функция'"
      ]
     },
     "execution_count": 14,
     "metadata": {},
     "output_type": "execute_result"
    }
   ],
   "source": [
    "ex1 = 3*x+x**3\n",
    "sympy.pprint(ex1)\n",
    "func_type(ex1)"
   ]
  },
  {
   "cell_type": "code",
   "execution_count": 15,
   "id": "edfee519",
   "metadata": {},
   "outputs": [
    {
     "name": "stdout",
     "output_type": "stream",
     "text": [
      " x    -x\n",
      "4  + 4  \n"
     ]
    },
    {
     "data": {
      "text/plain": [
       "'чётная функция'"
      ]
     },
     "execution_count": 15,
     "metadata": {},
     "output_type": "execute_result"
    }
   ],
   "source": [
    "ex2 = 4**x + 4**(-x)\n",
    "sympy.pprint(ex2)\n",
    "func_type(ex2)"
   ]
  },
  {
   "cell_type": "code",
   "execution_count": 16,
   "id": "8d217a5b",
   "metadata": {},
   "outputs": [
    {
     "name": "stdout",
     "output_type": "stream",
     "text": [
      "       3\n",
      "(x - 1) \n"
     ]
    },
    {
     "data": {
      "text/plain": [
       "'функция общего вида'"
      ]
     },
     "execution_count": 16,
     "metadata": {},
     "output_type": "execute_result"
    }
   ],
   "source": [
    "ex3 = (x-1)**3\n",
    "sympy.pprint(ex3)\n",
    "func_type(ex3)"
   ]
  },
  {
   "cell_type": "code",
   "execution_count": null,
   "id": "a800bcd5",
   "metadata": {},
   "outputs": [],
   "source": []
  }
 ],
 "metadata": {
  "kernelspec": {
   "display_name": "Python 3",
   "language": "python",
   "name": "python3"
  },
  "language_info": {
   "codemirror_mode": {
    "name": "ipython",
    "version": 3
   },
   "file_extension": ".py",
   "mimetype": "text/x-python",
   "name": "python",
   "nbconvert_exporter": "python",
   "pygments_lexer": "ipython3",
   "version": "3.6.9"
  }
 },
 "nbformat": 4,
 "nbformat_minor": 5
}

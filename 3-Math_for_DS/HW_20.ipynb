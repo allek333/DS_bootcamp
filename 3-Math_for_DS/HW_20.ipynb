{
 "cells": [
  {
   "cell_type": "markdown",
   "id": "e86bf139",
   "metadata": {},
   "source": [
    "# ДЗ: Линейная алгебра"
   ]
  },
  {
   "cell_type": "code",
   "execution_count": 1,
   "id": "593c4df5",
   "metadata": {},
   "outputs": [],
   "source": [
    "import sympy\n",
    "sympy.init_printing(use_unicode=True)"
   ]
  },
  {
   "cell_type": "markdown",
   "id": "69812afd",
   "metadata": {},
   "source": [
    "1. Найти $A+B$:\n",
    "A = $\\begin{pmatrix}\n",
    "1 & 3 & 0\\\\\n",
    "2 & -4 & 3\\\\\n",
    "5 & 6 & 9\\\\\n",
    "\\end{pmatrix}$\n",
    "B = $\\begin{pmatrix}\n",
    "10 & 6 & -2\\\\\n",
    "0 & 7 & 4\\\\\n",
    "-1 & 2 & 0\\\\\n",
    "\\end{pmatrix}$"
   ]
  },
  {
   "cell_type": "code",
   "execution_count": 2,
   "id": "14fa01f3",
   "metadata": {},
   "outputs": [
    {
     "data": {
      "image/png": "[encoded data removed]",
      "text/latex": [
       "$\\displaystyle \\left( \\left[\\begin{matrix}11 & 9 & -2\\\\2 & 3 & 7\\\\4 & 8 & 9\\end{matrix}\\right], \\  \\left[\\begin{matrix}11 & 9 & -2\\\\2 & 3 & 7\\\\4 & 8 & 9\\end{matrix}\\right]\\right)$"
      ],
      "text/plain": [
       "⎛⎡11  9  -2⎤  ⎡11  9  -2⎤⎞\n",
       "⎜⎢         ⎥  ⎢         ⎥⎟\n",
       "⎜⎢2   3  7 ⎥, ⎢2   3  7 ⎥⎟\n",
       "⎜⎢         ⎥  ⎢         ⎥⎟\n",
       "⎝⎣4   8  9 ⎦  ⎣4   8  9 ⎦⎠"
      ]
     },
     "execution_count": 2,
     "metadata": {},
     "output_type": "execute_result"
    }
   ],
   "source": [
    "A = sympy.Matrix([[1, 3, 0], [2, -4, 3], [5, 6, 9]])\n",
    "B = sympy.Matrix([[10, 6, -2], [0, 7, 4], [-1, 2, 0]])\n",
    "A+B, B+A"
   ]
  },
  {
   "cell_type": "markdown",
   "id": "bac25777",
   "metadata": {},
   "source": [
    "2. 1. Найти $A*B$:\n",
    "A = $\\begin{pmatrix}\n",
    "2 & 8\\\\\n",
    "3 & 4\\\\\n",
    "\\end{pmatrix}$\n",
    "B = $\\begin{pmatrix}\n",
    "1 & 0\\\\\n",
    "4 & 9\\\\\n",
    "\\end{pmatrix}$"
   ]
  },
  {
   "cell_type": "code",
   "execution_count": 3,
   "id": "a3365dba",
   "metadata": {},
   "outputs": [
    {
     "data": {
      "image/png": "[encoded data removed]",
      "text/latex": [
       "$\\displaystyle \\left( \\left[\\begin{matrix}34 & 72\\\\19 & 36\\end{matrix}\\right], \\  \\left[\\begin{matrix}2 & 8\\\\35 & 68\\end{matrix}\\right]\\right)$"
      ],
      "text/plain": [
       "⎛⎡34  72⎤  ⎡2   8 ⎤⎞\n",
       "⎜⎢      ⎥, ⎢      ⎥⎟\n",
       "⎝⎣19  36⎦  ⎣35  68⎦⎠"
      ]
     },
     "execution_count": 3,
     "metadata": {},
     "output_type": "execute_result"
    }
   ],
   "source": [
    "A = sympy.Matrix([[2, 8], [3, 4]])\n",
    "B = sympy.Matrix([[1, 0], [4, 9]])\n",
    "A@B, B@A"
   ]
  },
  {
   "cell_type": "markdown",
   "id": "2e69b671",
   "metadata": {},
   "source": [
    "3. Вычислить определители:\n",
    "$\\begin{vmatrix}\n",
    "3 & 7\\\\\n",
    "6 & 9\\\\\n",
    "\\end{vmatrix}$;\n",
    "$\\begin{vmatrix}\n",
    "4 & 1 & 9\\\\\n",
    "3 & 2 & 0\\\\\n",
    "8 & 7 & 5\\\\\n",
    "\\end{vmatrix}$"
   ]
  },
  {
   "cell_type": "code",
   "execution_count": 4,
   "id": "ae647f73",
   "metadata": {},
   "outputs": [
    {
     "data": {
      "image/png": "[encoded data removed]",
      "text/latex": [
       "$\\displaystyle \\left( -15, \\  70\\right)$"
      ],
      "text/plain": [
       "(-15, 70)"
      ]
     },
     "execution_count": 4,
     "metadata": {},
     "output_type": "execute_result"
    }
   ],
   "source": [
    "A1 = sympy.Matrix([[3, 7], [6, 9]])\n",
    "A2 = sympy.Matrix([[4, 1, 9], [3, 2, 0], [8, 7, 5]])\n",
    "A1.det(), A2.det()"
   ]
  },
  {
   "cell_type": "code",
   "execution_count": null,
   "id": "aae4bdf8",
   "metadata": {},
   "outputs": [],
   "source": []
  }
 ],
 "metadata": {
  "kernelspec": {
   "display_name": "Python 3 (ipykernel)",
   "language": "python",
   "name": "python3"
  },
  "language_info": {
   "codemirror_mode": {
    "name": "ipython",
    "version": 3
   },
   "file_extension": ".py",
   "mimetype": "text/x-python",
   "name": "python",
   "nbconvert_exporter": "python",
   "pygments_lexer": "ipython3",
   "version": "3.8.13"
  }
 },
 "nbformat": 4,
 "nbformat_minor": 5
}
